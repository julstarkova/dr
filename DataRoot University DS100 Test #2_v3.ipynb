{
 "cells": [
  {
   "cell_type": "markdown",
   "metadata": {},
   "source": [
    "# DataRoot University DS100 Test #2\n",
    "На проходження тесту виділяється 87 хвилин."
   ]
  },
  {
   "cell_type": "markdown",
   "metadata": {},
   "source": [
    "## Python"
   ]
  },
  {
   "cell_type": "markdown",
   "metadata": {},
   "source": [
    "### 1.  Реалізуйте функцію, яка повертає індекс кортежу, сума елементів якого є найменшою серед кортежів в списку:\n",
    "У відповідь вивести результат роботи ф-ції для наступного списку:\n",
    "```\n",
    "[(10, 20), (1), (30, 56, 25), (10, 20), (33), (40), (200), (10, 42), (42), (1,2,3), (4,5,6), (10,11,12), (7,8,9)]\n",
    "```\n",
    "\n",
    "\n",
    "```\n",
    "```\n",
    "```\n",
    "```\n",
    "```\n",
    "```\n",
    "```\n",
    "Максимальна оцінка: 2 бали\n",
    "Рекомендований час: 5хв\n",
    "```"
   ]
  },
  {
   "cell_type": "code",
   "execution_count": 33,
   "metadata": {},
   "outputs": [
    {
     "name": "stdout",
     "output_type": "stream",
     "text": [
      "1\n"
     ]
    }
   ],
   "source": [
    "l = [(10, 20), (1), (30, 56, 25), (10, 20), (33), (40), (200), (10, 42), (42), (1,2,3), (4,5,6), (10,11,12), (7,8,9)]\n",
    "print( min([ sum(l[_]) if type(l[_])== tuple else l[_] for _ in range(len(l))]))\n",
    "\n"
   ]
  },
  {
   "cell_type": "markdown",
   "metadata": {},
   "source": [
    "### 2.  Реалізуйте функцію str -> dict, таку, що ключем dict є слово, а значенням - його кількість в початковій str:\n",
    "У відповідь вивести результат роботи ф-ції для наступної строки:\n",
    "```\"Text mining, also referred to as text data mining, roughly equivalent to text analytics, is the process of deriving high-quality information from text.\"```\n",
    "\n",
    "```\n",
    "```\n",
    "```\n",
    "```\n",
    "```\n",
    "```\n",
    "```\n",
    "Максимальна оцінка: 2 бали\n",
    "Рекомендований час: 5хв\n",
    "```"
   ]
  },
  {
   "cell_type": "code",
   "execution_count": 18,
   "metadata": {},
   "outputs": [
    {
     "data": {
      "text/plain": [
       "{'also': 1,\n",
       " 'analytics': 1,\n",
       " 'as': 1,\n",
       " 'data': 1,\n",
       " 'deriving': 1,\n",
       " 'equivalent': 1,\n",
       " 'ext': 1,\n",
       " 'from': 1,\n",
       " 'high': 1,\n",
       " 'information': 1,\n",
       " 'is': 1,\n",
       " 'mining': 2,\n",
       " 'of': 1,\n",
       " 'process': 1,\n",
       " 'quality': 1,\n",
       " 'referred': 1,\n",
       " 'roughly': 1,\n",
       " 'text': 3,\n",
       " 'the': 1,\n",
       " 'to': 2}"
      ]
     },
     "execution_count": 18,
     "metadata": {},
     "output_type": "execute_result"
    }
   ],
   "source": [
    "import re\n",
    "freq = {}\n",
    "t = \"Text mining, also referred to as text data mining, roughly equivalent to text analytics, is the process of deriving high-quality information from text.\"\n",
    "ll = re.split('[^a-z]',t)\n",
    "def count_freq(arr,dic):\n",
    "    for key in arr:\n",
    "        if len(key) == 0:\n",
    "            next\n",
    "        elif key in dic:\n",
    "            dic[key] += 1\n",
    "        else:\n",
    "            dic[key] = 1\n",
    "    return dic\n",
    "freq = count_freq(ll,freq)\n",
    "freq"
   ]
  },
  {
   "cell_type": "markdown",
   "metadata": {},
   "source": [
    "### 3. Спортсмен почав тренування, пробігши в перший день N км (N - ціле, N > 0). Кожен наступний день він зменшував дистанцію пробігу на Р відсотків від дистанції пробігу попереднього дня(Р - дійсне, 0 < P < 50) до тих пір, коли дистанція пробігу за день стане меншою, ніж N / R (R - ціле, 0 < R < N, N / R - дійсне), після цього дня спортсмен збільшує дистанцію пробігу на Р відсотків від дистанції пробігу попереднього дня, до тих пір, коли дистанція за день стане більшою, ніж N*R, після цього дня виконується початкове правило, тобто дистанція зменшується до N/R, а потім збільшується до N*R за вищеописаним циклічним законом. По заданим Р, N, M, R, визначити, після якого дня сумарний пробіг спортсмена за всі дні буде вперше більшим, ніж M км (М - ціле, M > N). Вивести знайдену кількість днів К (K - ціле) і сумарний пробіг за К днів.\n",
    "\n",
    "```\n",
    "```\n",
    "```\n",
    "```\n",
    "```\n",
    "```\n",
    "```\n",
    "Максимальна оцінка: 3 бали\n",
    "Рекомендований час: 10хв\n",
    "```"
   ]
  },
  {
   "cell_type": "code",
   "execution_count": 24,
   "metadata": {},
   "outputs": [
    {
     "data": {
      "text/plain": [
       "(21398.600947489802, 74)"
      ]
     },
     "execution_count": 24,
     "metadata": {},
     "output_type": "execute_result"
    }
   ],
   "source": [
    "def days_count(N,P,R,M):\n",
    "    st = N/R\n",
    "    st2 = N*R\n",
    "    count = N\n",
    "    count_days = 1\n",
    "    while N >st:\n",
    "        N = N*P*0.01\n",
    "        if count>M:\n",
    "            break\n",
    "        count+=N\n",
    "        count_days+= 1     \n",
    "    while N <st2:\n",
    "        N+=N*P*0.01\n",
    "        if count>M:\n",
    "            break\n",
    "        count+=N\n",
    "        count_days+= 1\n",
    "    if count<M:return(days_count(N,P,R,M))\n",
    "    return (count,count_days)\n",
    "    \n",
    "days_count(1000,8,17,20000)      \n",
    "    "
   ]
  },
  {
   "cell_type": "markdown",
   "metadata": {},
   "source": [
    "### 4. Реалізуйте клас Sphere, який створюється за радіусом. Містить два методи, які повертають відповідно: площу поверхні та об'єм.\n",
    "\n",
    "```\n",
    "```\n",
    "```\n",
    "```\n",
    "```\n",
    "```\n",
    "```\n",
    "Максимальна оцінка: 3 бали\n",
    "Рекомендований час: 5хв\n",
    "```"
   ]
  },
  {
   "cell_type": "code",
   "execution_count": 20,
   "metadata": {},
   "outputs": [
    {
     "name": "stdout",
     "output_type": "stream",
     "text": [
      "201.06192982974676\n"
     ]
    }
   ],
   "source": [
    "from math import pi\n",
    "\n",
    "class Sphere(object):\n",
    "    def __init__(self, R):\n",
    "        self.R =  R\n",
    "\n",
    "    def area(self):\n",
    "        return 4*pi*self.R**2\n",
    "\n",
    "    def volume(self):\n",
    "        return 4/3*pi*self.R**3\n"
   ]
  },
  {
   "cell_type": "markdown",
   "metadata": {},
   "source": [
    "### 5.  Реалізуйте декоратор, який логує аргументи функцій та повернене значення кожного виклику. А при помилковому виклику відловлює та пише тип помилки. Необхідно виводити як позиційні(```*args```), так й іменовані аргументи(```**kwargs```):\n",
    "\n",
    "Приклад застосування вашого декоратору в результаті:\n",
    "```\n",
    ">>> @log\n",
    "... def func(*args):\n",
    "...   return len(args) + sum(args)\n",
    ">>> func(4, 4, 4)\n",
    "You called func(4, 4, 4)\n",
    "It returned 15\n",
    "15\n",
    "\n",
    ">>> func(4, 4, \"4\")\n",
    "You called func(4, 4, \"4\")\n",
    "It Raised TypeError\n",
    "```\n",
    "\n",
    "```\n",
    "```\n",
    "```\n",
    "```\n",
    "```\n",
    "```\n",
    "```\n",
    "Максимальна оцінка: 4 бали\n",
    "Рекомендований час: 12хв\n",
    "```"
   ]
  },
  {
   "cell_type": "code",
   "execution_count": null,
   "metadata": {
    "collapsed": true
   },
   "outputs": [],
   "source": []
  },
  {
   "cell_type": "markdown",
   "metadata": {
    "collapsed": true
   },
   "source": [
    "## Libraries: numpy, scipy, pandas, matplotlib"
   ]
  },
  {
   "cell_type": "markdown",
   "metadata": {},
   "source": [
    "### Numpy"
   ]
  },
  {
   "cell_type": "markdown",
   "metadata": {
    "collapsed": true
   },
   "source": [
    "### 6. Дана матриця:\n",
    "\\begin{align}\n",
    "A = \\begin{bmatrix}\n",
    "    17 & 24 & 1 & 8 & 15 \\\\\n",
    "    23 & 5 & 7 & 14 & 16 \\\\\n",
    "    4 & 6 & 13 & 20 & 22 \\\\\n",
    "    10 & 12 & 19 & 21 & 3 \\\\\n",
    "    11 & 18 & 25 & 2 & 9 \\\\\n",
    "\\end{bmatrix}\n",
    "\\end{align}\n",
    "\n",
    "\n",
    "#### Відніміть середнє арифметичне кожного стовпчику від кожного елементу у відповідному стовпчику:\n",
    "```\n",
    "```\n",
    "```\n",
    "```\n",
    "```\n",
    "```\n",
    "```\n",
    "Максимальна оцінка: 2 бали\n",
    "Рекомендований час: 5хв\n",
    "```"
   ]
  },
  {
   "cell_type": "code",
   "execution_count": 35,
   "metadata": {},
   "outputs": [
    {
     "name": "stdout",
     "output_type": "stream",
     "text": [
      "[[  4.  11. -12.  -5.   2.]\n",
      " [ 10.  -8.  -6.   1.   3.]\n",
      " [ -9.  -7.   0.   7.   9.]\n",
      " [ -3.  -1.   6.   8. -10.]\n",
      " [ -2.   5.  12. -11.  -4.]]\n"
     ]
    }
   ],
   "source": [
    "import numpy as np\n",
    "M = np.array([[17, 24, 1, 8, 15],[23, 5, 7, 14, 16], [4, 6, 13, 20, 22], [10, 12, 19, 21, 3],[11, 18, 25, 2, 9]])\n",
    "x = []\n",
    "for i in range(M.shape[1]):\n",
    "    x.append((M[:,i].sum()/(M.shape[1])))    \n",
    "MM = M - x[i]\n",
    "print(MM)"
   ]
  },
  {
   "cell_type": "markdown",
   "metadata": {},
   "source": [
    "### 7. Дано наступні матриці:\n",
    "\\begin{align}\n",
    "A = \\begin{bmatrix}\n",
    "    1 & 24 & 1 & 8 & 15 \\\\\n",
    "    -3 & 5 & 7 & -14 & 16 \\\\\n",
    "    4 & 6 & -3 & 20 & 2 \\\\\n",
    "    10 & 12 & 19 & 21 & 3 \\\\\n",
    "    1 & 1 & 2 & -2 & 0 \\\\\n",
    "\\end{bmatrix}\n",
    "\\end{align}\n",
    "\\begin{align}\n",
    "\\end{align}\n",
    "\\begin{align}\n",
    "B = \\begin{bmatrix}\n",
    "    17 & 24 & 1 & 8 & 15 \\\\\n",
    "    23 & 5 & 7 & 14 & 16 \\\\\n",
    "    4 & 6 & 13 & 20 & 22 \\\\\n",
    "    10 & 12 & 19 & 21 & 3 \\\\\n",
    "    11 & 18 & 25 & 2 & 9 \\\\\n",
    "\\end{bmatrix}\n",
    "\\end{align}\n",
    "Знайти:"
   ]
  },
  {
   "cell_type": "markdown",
   "metadata": {},
   "source": [
    "#### 7.1. Нормалізуйте: $(A B)^{-1}B$\n",
    "```\n",
    "```\n",
    "```\n",
    "```\n",
    "```\n",
    "```\n",
    "```\n",
    "Максимальна оцінка: 1 бал\n",
    "Рекомендований час: 2хв\n",
    "```"
   ]
  },
  {
   "cell_type": "code",
   "execution_count": 38,
   "metadata": {},
   "outputs": [
    {
     "data": {
      "text/plain": [
       "array([[  2.17786539e-02,   1.04113086e-01,   4.07471055e-02,\n",
       "         -4.73298196e-02,   1.77187449e-02],\n",
       "       [  4.07995944e-01,   5.69121020e-01,   1.00000000e+00,\n",
       "          2.58492467e-01,   5.59229786e-01],\n",
       "       [ -2.24522952e-01,  -4.12028481e-01,  -6.17356143e-01,\n",
       "         -6.44568033e-02,  -2.63397083e-01],\n",
       "       [ -1.52390553e-01,  -1.81149638e-01,  -2.78727819e-01,\n",
       "         -7.16513043e-02,  -1.85527875e-01],\n",
       "       [  5.24516694e-02,   5.99531395e-02,   7.90327054e-02,\n",
       "         -3.69296538e-03,   4.34691555e-04]])"
      ]
     },
     "execution_count": 38,
     "metadata": {},
     "output_type": "execute_result"
    }
   ],
   "source": [
    "import numpy.linalg as npl\n",
    "A = np.array([[1, 24, 1, 8, 15], [-3, 5, 7, -14, 16], [4, 6, -3, 20, 2],[10, 12, 19, 21, 3],[1, 1, 2, -2, 0]])\n",
    "B = np.array([[17, 24, 1, 8, 15],[23, 5, 7, 14, 16], [4, 6,13, 20, 22],[10, 12, 19, 21, 3], [11, 18, 25, 2, 9]])\n",
    "C = npl.inv(A.dot(B))\n",
    "C = C.dot(B)\n",
    "C_norm = C/C.max()\n",
    "C_norm"
   ]
  },
  {
   "cell_type": "markdown",
   "metadata": {},
   "source": [
    "#### 7.2. Змініть матрицю B таким чином, щоб всі елементи k, такі що 3 < k < 16, змінили знак.\n",
    "```\n",
    "```\n",
    "```\n",
    "```\n",
    "```\n",
    "```\n",
    "```\n",
    "Максимальна оцінка: 3 бали\n",
    "Рекомендований час: 5хв\n",
    "```"
   ]
  },
  {
   "cell_type": "code",
   "execution_count": 42,
   "metadata": {},
   "outputs": [
    {
     "data": {
      "text/plain": [
       "array([[ 17,  24,   1,  -8, -15],\n",
       "       [ 23,  -5,  -7, -14,  16],\n",
       "       [ -4,  -6, -13,  20,  22],\n",
       "       [-10, -12,  19,  21,   3],\n",
       "       [-11,  18,  25,   2,  -9]])"
      ]
     },
     "execution_count": 42,
     "metadata": {},
     "output_type": "execute_result"
    }
   ],
   "source": [
    "for i in range(len(B)):\n",
    "    for j in range (len(B)):\n",
    "        if B[i][j]>3 and B[i][j]<16:\n",
    "            B[i][j] = -B[i][j]\n",
    "B"
   ]
  },
  {
   "cell_type": "markdown",
   "metadata": {},
   "source": [
    "### 8. Створіть випадковий вектор розміру 10 і замініть максимальне значення на 0\n",
    "```\n",
    "```\n",
    "```\n",
    "```\n",
    "```\n",
    "```\n",
    "```\n",
    "Максимальна оцінка: 2 бали\n",
    "Рекомендований час: 4хв\n",
    "```"
   ]
  },
  {
   "cell_type": "code",
   "execution_count": 43,
   "metadata": {},
   "outputs": [
    {
     "name": "stdout",
     "output_type": "stream",
     "text": [
      "[[2 9 2 4 2 8 3 3 4 5]]\n"
     ]
    }
   ],
   "source": [
    "rand_vec = np.random.randint(1, 10,size=(1, 10))\n",
    "max_val = rand_vec.max()\n",
    "for i in np.arange(len(rand_vec) - 1):\n",
    "    if rand_vec[i] == max_val:\n",
    "        rand_vec[i] = 0\n",
    "\n",
    "print(rand_vec)"
   ]
  },
  {
   "cell_type": "markdown",
   "metadata": {},
   "source": [
    "### Pandas"
   ]
  },
  {
   "cell_type": "markdown",
   "metadata": {},
   "source": [
    "### 8. Розглянемо наступний словник ```data``` та список ```labels```:"
   ]
  },
  {
   "cell_type": "code",
   "execution_count": 44,
   "metadata": {
    "collapsed": true
   },
   "outputs": [],
   "source": [
    "import numpy as np\n",
    "\n",
    "data = {'animal': ['cat', 'cat', 'snake', 'dog', 'dog', 'cat', 'snake', 'cat', 'dog', 'dog'],\n",
    "        'age': [2.5, 3, 0.5, np.nan, 5, 2, 4.5, np.nan, 7, 3],\n",
    "        'visits': [1, 3, 2, 3, 2, 3, 1, 1, 2, 1],\n",
    "        'priority': ['yes', 'yes', 'no', 'yes', 'no', 'no', 'no', 'yes', 'no', 'no']}\n",
    "\n",
    "labels = ['a', 'b', 'c', 'd', 'e', 'f', 'g', 'h', 'i', 'j']"
   ]
  },
  {
   "cell_type": "markdown",
   "metadata": {},
   "source": [
    "#### 8.1. Створіть ```DataFrame``` ```df``` з даних словника ```data``` з індексами зі списку ```labels```:\n",
    "```\n",
    "```\n",
    "```\n",
    "```\n",
    "```\n",
    "```\n",
    "```\n",
    "Максимальна оцінка: 1 бал\n",
    "Рекомендований час: 1хв\n",
    "```"
   ]
  },
  {
   "cell_type": "code",
   "execution_count": 46,
   "metadata": {},
   "outputs": [
    {
     "data": {
      "text/html": [
       "<div>\n",
       "<table border=\"1\" class=\"dataframe\">\n",
       "  <thead>\n",
       "    <tr style=\"text-align: right;\">\n",
       "      <th></th>\n",
       "      <th>age</th>\n",
       "      <th>animal</th>\n",
       "      <th>priority</th>\n",
       "      <th>visits</th>\n",
       "    </tr>\n",
       "  </thead>\n",
       "  <tbody>\n",
       "    <tr>\n",
       "      <th>a</th>\n",
       "      <td>2.5</td>\n",
       "      <td>cat</td>\n",
       "      <td>yes</td>\n",
       "      <td>1</td>\n",
       "    </tr>\n",
       "    <tr>\n",
       "      <th>b</th>\n",
       "      <td>3.0</td>\n",
       "      <td>cat</td>\n",
       "      <td>yes</td>\n",
       "      <td>3</td>\n",
       "    </tr>\n",
       "    <tr>\n",
       "      <th>c</th>\n",
       "      <td>0.5</td>\n",
       "      <td>snake</td>\n",
       "      <td>no</td>\n",
       "      <td>2</td>\n",
       "    </tr>\n",
       "    <tr>\n",
       "      <th>d</th>\n",
       "      <td>NaN</td>\n",
       "      <td>dog</td>\n",
       "      <td>yes</td>\n",
       "      <td>3</td>\n",
       "    </tr>\n",
       "    <tr>\n",
       "      <th>e</th>\n",
       "      <td>5.0</td>\n",
       "      <td>dog</td>\n",
       "      <td>no</td>\n",
       "      <td>2</td>\n",
       "    </tr>\n",
       "    <tr>\n",
       "      <th>f</th>\n",
       "      <td>2.0</td>\n",
       "      <td>cat</td>\n",
       "      <td>no</td>\n",
       "      <td>3</td>\n",
       "    </tr>\n",
       "    <tr>\n",
       "      <th>g</th>\n",
       "      <td>4.5</td>\n",
       "      <td>snake</td>\n",
       "      <td>no</td>\n",
       "      <td>1</td>\n",
       "    </tr>\n",
       "    <tr>\n",
       "      <th>h</th>\n",
       "      <td>NaN</td>\n",
       "      <td>cat</td>\n",
       "      <td>yes</td>\n",
       "      <td>1</td>\n",
       "    </tr>\n",
       "    <tr>\n",
       "      <th>i</th>\n",
       "      <td>7.0</td>\n",
       "      <td>dog</td>\n",
       "      <td>no</td>\n",
       "      <td>2</td>\n",
       "    </tr>\n",
       "    <tr>\n",
       "      <th>j</th>\n",
       "      <td>3.0</td>\n",
       "      <td>dog</td>\n",
       "      <td>no</td>\n",
       "      <td>1</td>\n",
       "    </tr>\n",
       "  </tbody>\n",
       "</table>\n",
       "</div>"
      ],
      "text/plain": [
       "   age animal priority  visits\n",
       "a  2.5    cat      yes       1\n",
       "b  3.0    cat      yes       3\n",
       "c  0.5  snake       no       2\n",
       "d  NaN    dog      yes       3\n",
       "e  5.0    dog       no       2\n",
       "f  2.0    cat       no       3\n",
       "g  4.5  snake       no       1\n",
       "h  NaN    cat      yes       1\n",
       "i  7.0    dog       no       2\n",
       "j  3.0    dog       no       1"
      ]
     },
     "execution_count": 46,
     "metadata": {},
     "output_type": "execute_result"
    }
   ],
   "source": [
    "import pandas as pd\n",
    "df = pd.DataFrame(data = data,index = labels)\n",
    "df"
   ]
  },
  {
   "cell_type": "markdown",
   "metadata": {},
   "source": [
    "#### 8.2. Відобразіть базову інформацію про цей ```DataFrame``` та його дані:\n",
    "```\n",
    "```\n",
    "```\n",
    "```\n",
    "```\n",
    "```\n",
    "```\n",
    "Максимальна оцінка: 1 бал\n",
    "Рекомендований час: 1хв\n",
    "```"
   ]
  },
  {
   "cell_type": "code",
   "execution_count": 47,
   "metadata": {},
   "outputs": [
    {
     "data": {
      "text/html": [
       "<div>\n",
       "<table border=\"1\" class=\"dataframe\">\n",
       "  <thead>\n",
       "    <tr style=\"text-align: right;\">\n",
       "      <th></th>\n",
       "      <th>age</th>\n",
       "      <th>visits</th>\n",
       "    </tr>\n",
       "  </thead>\n",
       "  <tbody>\n",
       "    <tr>\n",
       "      <th>count</th>\n",
       "      <td>8.000000</td>\n",
       "      <td>10.000000</td>\n",
       "    </tr>\n",
       "    <tr>\n",
       "      <th>mean</th>\n",
       "      <td>3.437500</td>\n",
       "      <td>1.900000</td>\n",
       "    </tr>\n",
       "    <tr>\n",
       "      <th>std</th>\n",
       "      <td>2.007797</td>\n",
       "      <td>0.875595</td>\n",
       "    </tr>\n",
       "    <tr>\n",
       "      <th>min</th>\n",
       "      <td>0.500000</td>\n",
       "      <td>1.000000</td>\n",
       "    </tr>\n",
       "    <tr>\n",
       "      <th>25%</th>\n",
       "      <td>2.375000</td>\n",
       "      <td>1.000000</td>\n",
       "    </tr>\n",
       "    <tr>\n",
       "      <th>50%</th>\n",
       "      <td>3.000000</td>\n",
       "      <td>2.000000</td>\n",
       "    </tr>\n",
       "    <tr>\n",
       "      <th>75%</th>\n",
       "      <td>4.625000</td>\n",
       "      <td>2.750000</td>\n",
       "    </tr>\n",
       "    <tr>\n",
       "      <th>max</th>\n",
       "      <td>7.000000</td>\n",
       "      <td>3.000000</td>\n",
       "    </tr>\n",
       "  </tbody>\n",
       "</table>\n",
       "</div>"
      ],
      "text/plain": [
       "            age     visits\n",
       "count  8.000000  10.000000\n",
       "mean   3.437500   1.900000\n",
       "std    2.007797   0.875595\n",
       "min    0.500000   1.000000\n",
       "25%    2.375000   1.000000\n",
       "50%    3.000000   2.000000\n",
       "75%    4.625000   2.750000\n",
       "max    7.000000   3.000000"
      ]
     },
     "execution_count": 47,
     "metadata": {},
     "output_type": "execute_result"
    }
   ],
   "source": [
    "df.describe()"
   ]
  },
  {
   "cell_type": "markdown",
   "metadata": {},
   "source": [
    "#### 8.3. Поверніть перші 5 рядків ```DataFrame``` ```df```:\n",
    "```\n",
    "```\n",
    "```\n",
    "```\n",
    "```\n",
    "```\n",
    "```\n",
    "Максимальна оцінка: 1 бал\n",
    "Рекомендований час: 1хв\n",
    "```"
   ]
  },
  {
   "cell_type": "code",
   "execution_count": 48,
   "metadata": {},
   "outputs": [
    {
     "data": {
      "text/html": [
       "<div>\n",
       "<table border=\"1\" class=\"dataframe\">\n",
       "  <thead>\n",
       "    <tr style=\"text-align: right;\">\n",
       "      <th></th>\n",
       "      <th>age</th>\n",
       "      <th>animal</th>\n",
       "      <th>priority</th>\n",
       "      <th>visits</th>\n",
       "    </tr>\n",
       "  </thead>\n",
       "  <tbody>\n",
       "    <tr>\n",
       "      <th>a</th>\n",
       "      <td>2.5</td>\n",
       "      <td>cat</td>\n",
       "      <td>yes</td>\n",
       "      <td>1</td>\n",
       "    </tr>\n",
       "    <tr>\n",
       "      <th>b</th>\n",
       "      <td>3.0</td>\n",
       "      <td>cat</td>\n",
       "      <td>yes</td>\n",
       "      <td>3</td>\n",
       "    </tr>\n",
       "    <tr>\n",
       "      <th>c</th>\n",
       "      <td>0.5</td>\n",
       "      <td>snake</td>\n",
       "      <td>no</td>\n",
       "      <td>2</td>\n",
       "    </tr>\n",
       "    <tr>\n",
       "      <th>d</th>\n",
       "      <td>NaN</td>\n",
       "      <td>dog</td>\n",
       "      <td>yes</td>\n",
       "      <td>3</td>\n",
       "    </tr>\n",
       "    <tr>\n",
       "      <th>e</th>\n",
       "      <td>5.0</td>\n",
       "      <td>dog</td>\n",
       "      <td>no</td>\n",
       "      <td>2</td>\n",
       "    </tr>\n",
       "  </tbody>\n",
       "</table>\n",
       "</div>"
      ],
      "text/plain": [
       "   age animal priority  visits\n",
       "a  2.5    cat      yes       1\n",
       "b  3.0    cat      yes       3\n",
       "c  0.5  snake       no       2\n",
       "d  NaN    dog      yes       3\n",
       "e  5.0    dog       no       2"
      ]
     },
     "execution_count": 48,
     "metadata": {},
     "output_type": "execute_result"
    }
   ],
   "source": [
    "df.head()"
   ]
  },
  {
   "cell_type": "markdown",
   "metadata": {},
   "source": [
    "#### 8.4. Виберіть стовпчики ```\"animal\"``` та ```\"age\"``` з ```DataFrame``` ```df```:\n",
    "```\n",
    "```\n",
    "```\n",
    "```\n",
    "```\n",
    "```\n",
    "```\n",
    "Максимальна оцінка: 1 бал\n",
    "Рекомендований час: 1хв\n",
    "```"
   ]
  },
  {
   "cell_type": "code",
   "execution_count": 49,
   "metadata": {},
   "outputs": [
    {
     "data": {
      "text/html": [
       "<div>\n",
       "<table border=\"1\" class=\"dataframe\">\n",
       "  <thead>\n",
       "    <tr style=\"text-align: right;\">\n",
       "      <th></th>\n",
       "      <th>animal</th>\n",
       "      <th>age</th>\n",
       "    </tr>\n",
       "  </thead>\n",
       "  <tbody>\n",
       "    <tr>\n",
       "      <th>a</th>\n",
       "      <td>cat</td>\n",
       "      <td>2.5</td>\n",
       "    </tr>\n",
       "    <tr>\n",
       "      <th>b</th>\n",
       "      <td>cat</td>\n",
       "      <td>3.0</td>\n",
       "    </tr>\n",
       "    <tr>\n",
       "      <th>c</th>\n",
       "      <td>snake</td>\n",
       "      <td>0.5</td>\n",
       "    </tr>\n",
       "    <tr>\n",
       "      <th>d</th>\n",
       "      <td>dog</td>\n",
       "      <td>NaN</td>\n",
       "    </tr>\n",
       "    <tr>\n",
       "      <th>e</th>\n",
       "      <td>dog</td>\n",
       "      <td>5.0</td>\n",
       "    </tr>\n",
       "    <tr>\n",
       "      <th>f</th>\n",
       "      <td>cat</td>\n",
       "      <td>2.0</td>\n",
       "    </tr>\n",
       "    <tr>\n",
       "      <th>g</th>\n",
       "      <td>snake</td>\n",
       "      <td>4.5</td>\n",
       "    </tr>\n",
       "    <tr>\n",
       "      <th>h</th>\n",
       "      <td>cat</td>\n",
       "      <td>NaN</td>\n",
       "    </tr>\n",
       "    <tr>\n",
       "      <th>i</th>\n",
       "      <td>dog</td>\n",
       "      <td>7.0</td>\n",
       "    </tr>\n",
       "    <tr>\n",
       "      <th>j</th>\n",
       "      <td>dog</td>\n",
       "      <td>3.0</td>\n",
       "    </tr>\n",
       "  </tbody>\n",
       "</table>\n",
       "</div>"
      ],
      "text/plain": [
       "  animal  age\n",
       "a    cat  2.5\n",
       "b    cat  3.0\n",
       "c  snake  0.5\n",
       "d    dog  NaN\n",
       "e    dog  5.0\n",
       "f    cat  2.0\n",
       "g  snake  4.5\n",
       "h    cat  NaN\n",
       "i    dog  7.0\n",
       "j    dog  3.0"
      ]
     },
     "execution_count": 49,
     "metadata": {},
     "output_type": "execute_result"
    }
   ],
   "source": [
    "df[[\"animal\", \"age\"]]"
   ]
  },
  {
   "cell_type": "markdown",
   "metadata": {},
   "source": [
    "#### 8.5 Виберіть дані з рядків ```[1, 5, 8]``` та стовпчиків ```['animal', 'age']```:\n",
    "```\n",
    "```\n",
    "```\n",
    "```\n",
    "```\n",
    "```\n",
    "```\n",
    "Максимальна оцінка: 1 бал\n",
    "Рекомендований час: 1хв\n",
    "```"
   ]
  },
  {
   "cell_type": "code",
   "execution_count": 50,
   "metadata": {},
   "outputs": [
    {
     "data": {
      "text/html": [
       "<div>\n",
       "<table border=\"1\" class=\"dataframe\">\n",
       "  <thead>\n",
       "    <tr style=\"text-align: right;\">\n",
       "      <th></th>\n",
       "      <th>animal</th>\n",
       "      <th>age</th>\n",
       "    </tr>\n",
       "  </thead>\n",
       "  <tbody>\n",
       "    <tr>\n",
       "      <th>a</th>\n",
       "      <td>cat</td>\n",
       "      <td>2.5</td>\n",
       "    </tr>\n",
       "    <tr>\n",
       "      <th>e</th>\n",
       "      <td>dog</td>\n",
       "      <td>5.0</td>\n",
       "    </tr>\n",
       "    <tr>\n",
       "      <th>h</th>\n",
       "      <td>cat</td>\n",
       "      <td>NaN</td>\n",
       "    </tr>\n",
       "  </tbody>\n",
       "</table>\n",
       "</div>"
      ],
      "text/plain": [
       "  animal  age\n",
       "a    cat  2.5\n",
       "e    dog  5.0\n",
       "h    cat  NaN"
      ]
     },
     "execution_count": 50,
     "metadata": {},
     "output_type": "execute_result"
    }
   ],
   "source": [
    "df.ix[[0, 4 , 7], [\"animal\", \"age\"]]"
   ]
  },
  {
   "cell_type": "markdown",
   "metadata": {},
   "source": [
    "#### 8.6. Виберіть лише ті рядки, в яких к-сть візитів більша ніж 3:\n",
    "```\n",
    "```\n",
    "```\n",
    "```\n",
    "```\n",
    "```\n",
    "```\n",
    "Максимальна оцінка: 1 бал\n",
    "Рекомендований час: 1хв\n",
    "```"
   ]
  },
  {
   "cell_type": "code",
   "execution_count": 52,
   "metadata": {},
   "outputs": [
    {
     "data": {
      "text/html": [
       "<div>\n",
       "<table border=\"1\" class=\"dataframe\">\n",
       "  <thead>\n",
       "    <tr style=\"text-align: right;\">\n",
       "      <th></th>\n",
       "      <th>age</th>\n",
       "      <th>animal</th>\n",
       "      <th>priority</th>\n",
       "      <th>visits</th>\n",
       "    </tr>\n",
       "  </thead>\n",
       "  <tbody>\n",
       "  </tbody>\n",
       "</table>\n",
       "</div>"
      ],
      "text/plain": [
       "Empty DataFrame\n",
       "Columns: [age, animal, priority, visits]\n",
       "Index: []"
      ]
     },
     "execution_count": 52,
     "metadata": {},
     "output_type": "execute_result"
    }
   ],
   "source": [
    "df[df.visits > 3]"
   ]
  },
  {
   "cell_type": "markdown",
   "metadata": {},
   "source": [
    "#### 8.7. Виберіть рядки, де вік відсутній, тобто ```NaN```:\n",
    "```\n",
    "```\n",
    "```\n",
    "```\n",
    "```\n",
    "```\n",
    "```\n",
    "Максимальна оцінка: 1 бал\n",
    "Рекомендований час: 1хв\n",
    "```"
   ]
  },
  {
   "cell_type": "code",
   "execution_count": 53,
   "metadata": {},
   "outputs": [
    {
     "data": {
      "text/html": [
       "<div>\n",
       "<table border=\"1\" class=\"dataframe\">\n",
       "  <thead>\n",
       "    <tr style=\"text-align: right;\">\n",
       "      <th></th>\n",
       "      <th>age</th>\n",
       "      <th>animal</th>\n",
       "      <th>priority</th>\n",
       "      <th>visits</th>\n",
       "    </tr>\n",
       "  </thead>\n",
       "  <tbody>\n",
       "    <tr>\n",
       "      <th>d</th>\n",
       "      <td>NaN</td>\n",
       "      <td>dog</td>\n",
       "      <td>yes</td>\n",
       "      <td>3</td>\n",
       "    </tr>\n",
       "    <tr>\n",
       "      <th>h</th>\n",
       "      <td>NaN</td>\n",
       "      <td>cat</td>\n",
       "      <td>yes</td>\n",
       "      <td>1</td>\n",
       "    </tr>\n",
       "  </tbody>\n",
       "</table>\n",
       "</div>"
      ],
      "text/plain": [
       "   age animal priority  visits\n",
       "d  NaN    dog      yes       3\n",
       "h  NaN    cat      yes       1"
      ]
     },
     "execution_count": 53,
     "metadata": {},
     "output_type": "execute_result"
    }
   ],
   "source": [
    "df[df.age.isnull() ]"
   ]
  },
  {
   "cell_type": "markdown",
   "metadata": {},
   "source": [
    "#### 8.8. Виберіть рядки з котами, вік яких більше ніж 2:\n",
    "```\n",
    "```\n",
    "```\n",
    "```\n",
    "```\n",
    "```\n",
    "```\n",
    "Максимальна оцінка: 1 бал\n",
    "Рекомендований час: 1хв\n",
    "```"
   ]
  },
  {
   "cell_type": "code",
   "execution_count": 54,
   "metadata": {},
   "outputs": [
    {
     "data": {
      "text/html": [
       "<div>\n",
       "<table border=\"1\" class=\"dataframe\">\n",
       "  <thead>\n",
       "    <tr style=\"text-align: right;\">\n",
       "      <th></th>\n",
       "      <th>age</th>\n",
       "      <th>animal</th>\n",
       "      <th>priority</th>\n",
       "      <th>visits</th>\n",
       "    </tr>\n",
       "  </thead>\n",
       "  <tbody>\n",
       "    <tr>\n",
       "      <th>a</th>\n",
       "      <td>2.5</td>\n",
       "      <td>cat</td>\n",
       "      <td>yes</td>\n",
       "      <td>1</td>\n",
       "    </tr>\n",
       "    <tr>\n",
       "      <th>b</th>\n",
       "      <td>3.0</td>\n",
       "      <td>cat</td>\n",
       "      <td>yes</td>\n",
       "      <td>3</td>\n",
       "    </tr>\n",
       "  </tbody>\n",
       "</table>\n",
       "</div>"
      ],
      "text/plain": [
       "   age animal priority  visits\n",
       "a  2.5    cat      yes       1\n",
       "b  3.0    cat      yes       3"
      ]
     },
     "execution_count": 54,
     "metadata": {},
     "output_type": "execute_result"
    }
   ],
   "source": [
    "df[(df.animal == \"cat\") & (df.age > 2)]"
   ]
  },
  {
   "cell_type": "markdown",
   "metadata": {},
   "source": [
    "#### 8.9. Підрахуйте середній вік для кожного з типів тварин:\n",
    "```\n",
    "```\n",
    "```\n",
    "```\n",
    "```\n",
    "```\n",
    "```\n",
    "Максимальна оцінка: 2 бали\n",
    "Рекомендований час: 2хв\n",
    "```"
   ]
  },
  {
   "cell_type": "code",
   "execution_count": null,
   "metadata": {
    "collapsed": true
   },
   "outputs": [],
   "source": []
  },
  {
   "cell_type": "markdown",
   "metadata": {},
   "source": [
    "#### 8.10. Відсортуйте ```df``` по-перше за віком в спадаючому порядку, по-друге за к-стю візитів в зростаючому порядку:\n",
    "```\n",
    "```\n",
    "```\n",
    "```\n",
    "```\n",
    "```\n",
    "```\n",
    "Максимальна оцінка: 2 бали\n",
    "Рекомендований час: 2хв\n",
    "```"
   ]
  },
  {
   "cell_type": "code",
   "execution_count": 55,
   "metadata": {},
   "outputs": [
    {
     "data": {
      "text/plain": [
       "a    1\n",
       "g    1\n",
       "h    1\n",
       "j    1\n",
       "c    2\n",
       "e    2\n",
       "i    2\n",
       "b    3\n",
       "d    3\n",
       "f    3\n",
       "Name: visits, dtype: int64"
      ]
     },
     "execution_count": 55,
     "metadata": {},
     "output_type": "execute_result"
    }
   ],
   "source": [
    "df.age.sort_values(ascending= False)\n",
    "df.visits.sort_values(ascending=True)"
   ]
  },
  {
   "cell_type": "markdown",
   "metadata": {},
   "source": [
    "#### 8.11. Стовпець \"priority\" містить значення \"yes\" та \"no\". Замінити цей стовпець стовпчиком булевих значень: \"yes\" на True, а \"no\" на False:\n",
    "```\n",
    "```\n",
    "```\n",
    "```\n",
    "```\n",
    "```\n",
    "```\n",
    "Максимальна оцінка: 2 бали\n",
    "Рекомендований час: 2хв\n",
    "```"
   ]
  },
  {
   "cell_type": "code",
   "execution_count": null,
   "metadata": {
    "collapsed": true
   },
   "outputs": [],
   "source": []
  },
  {
   "cell_type": "markdown",
   "metadata": {},
   "source": [
    "## Scipy & Matplotlib"
   ]
  },
  {
   "cell_type": "markdown",
   "metadata": {},
   "source": [
    "### 9. За допомогою scipy згенерувати та за допомогою matplotlib побудувати функцію розподілу ймовірностей для вибірок, правильно підписавши осі та назвавши графік з обраними відповідними параметрами:"
   ]
  },
  {
   "cell_type": "markdown",
   "metadata": {},
   "source": [
    "#### 9.1. Для виібрки з нормально розподіленої випадкової величини:\n",
    "```\n",
    "```\n",
    "```\n",
    "```\n",
    "```\n",
    "```\n",
    "```\n",
    "Максимальна оцінка: 3 бали\n",
    "Рекомендований час: 5хв\n",
    "```"
   ]
  },
  {
   "cell_type": "code",
   "execution_count": 58,
   "metadata": {},
   "outputs": [
    {
     "data": {
      "text/plain": [
       "[<matplotlib.lines.Line2D at 0x7f1b47c4a550>]"
      ]
     },
     "execution_count": 58,
     "metadata": {},
     "output_type": "execute_result"
    },
    {
     "data": {
      "image/png": "[encoded data removed]",
      "text/plain": [
       "<matplotlib.figure.Figure at 0x7f1b7241d160>"
      ]
     },
     "metadata": {},
     "output_type": "display_data"
    }
   ],
   "source": [
    "% matplotlib inline\n",
    "from scipy.stats import norm, bernoulli\n",
    "import matplotlib.pyplot as plt\n",
    "fig, ax = plt.subplots(1, 1)\n",
    "mean, var, skew, kurt = norm.stats(moments='mvsk')\n",
    "x = np.linspace(norm.ppf(0.01), norm.ppf(0.99), 100)\n",
    "ax.plot(x, norm.pdf(x),'b-', lw=5, alpha=0.6, label='norm pdf')\n",
    "rv = norm()\n",
    "ax.plot(x, rv.pdf(x), 'k-', lw=2)"
   ]
  },
  {
   "cell_type": "markdown",
   "metadata": {},
   "source": [
    "#### 9.2. Для вибірки з розподілу Бернулі:\n",
    "```\n",
    "```\n",
    "```\n",
    "```\n",
    "```\n",
    "```\n",
    "```\n",
    "Максимальна оцінка: 3 бали\n",
    "Рекомендований час: 5хв\n",
    "```"
   ]
  },
  {
   "cell_type": "code",
   "execution_count": 62,
   "metadata": {},
   "outputs": [
    {
     "ename": "AttributeError",
     "evalue": "'bernoulli_gen' object has no attribute 'pdf'",
     "output_type": "error",
     "traceback": [
      "\u001b[0;31m---------------------------------------------------------------------------\u001b[0m",
      "\u001b[0;31mAttributeError\u001b[0m                            Traceback (most recent call last)",
      "\u001b[0;32m<ipython-input-62-b082041fe7a1>\u001b[0m in \u001b[0;36m<module>\u001b[0;34m()\u001b[0m\n\u001b[1;32m      2\u001b[0m \u001b[0;31m#mean, var, skew, kurt = bernoulli.stats(moments='mvsk')\u001b[0m\u001b[0;34m\u001b[0m\u001b[0;34m\u001b[0m\u001b[0m\n\u001b[1;32m      3\u001b[0m \u001b[0mx\u001b[0m \u001b[0;34m=\u001b[0m \u001b[0mnp\u001b[0m\u001b[0;34m.\u001b[0m\u001b[0mlinspace\u001b[0m\u001b[0;34m(\u001b[0m\u001b[0mbernoulli\u001b[0m\u001b[0;34m.\u001b[0m\u001b[0mppf\u001b[0m\u001b[0;34m(\u001b[0m\u001b[0;36m0.01\u001b[0m\u001b[0;34m,\u001b[0m\u001b[0;36m0.5\u001b[0m\u001b[0;34m)\u001b[0m\u001b[0;34m,\u001b[0m \u001b[0mbernoulli\u001b[0m\u001b[0;34m.\u001b[0m\u001b[0mppf\u001b[0m\u001b[0;34m(\u001b[0m\u001b[0;36m0.99\u001b[0m\u001b[0;34m,\u001b[0m\u001b[0;36m0.5\u001b[0m\u001b[0;34m)\u001b[0m\u001b[0;34m,\u001b[0m \u001b[0;36m100\u001b[0m\u001b[0;34m)\u001b[0m\u001b[0;34m\u001b[0m\u001b[0m\n\u001b[0;32m----> 4\u001b[0;31m \u001b[0max\u001b[0m\u001b[0;34m.\u001b[0m\u001b[0mplot\u001b[0m\u001b[0;34m(\u001b[0m\u001b[0mx\u001b[0m\u001b[0;34m,\u001b[0m \u001b[0mbernoulli\u001b[0m\u001b[0;34m.\u001b[0m\u001b[0mpdf\u001b[0m\u001b[0;34m(\u001b[0m\u001b[0mx\u001b[0m\u001b[0;34m)\u001b[0m\u001b[0;34m,\u001b[0m\u001b[0;34m'g-'\u001b[0m\u001b[0;34m,\u001b[0m \u001b[0mlw\u001b[0m\u001b[0;34m=\u001b[0m\u001b[0;36m5\u001b[0m\u001b[0;34m,\u001b[0m \u001b[0malpha\u001b[0m\u001b[0;34m=\u001b[0m\u001b[0;36m0.6\u001b[0m\u001b[0;34m,\u001b[0m \u001b[0mlabel\u001b[0m\u001b[0;34m=\u001b[0m\u001b[0;34m'b pdf'\u001b[0m\u001b[0;34m)\u001b[0m\u001b[0;34m\u001b[0m\u001b[0m\n\u001b[0m\u001b[1;32m      5\u001b[0m \u001b[0mrv\u001b[0m \u001b[0;34m=\u001b[0m \u001b[0mbernoulli\u001b[0m\u001b[0;34m(\u001b[0m\u001b[0;34m)\u001b[0m\u001b[0;34m\u001b[0m\u001b[0m\n\u001b[1;32m      6\u001b[0m \u001b[0max\u001b[0m\u001b[0;34m.\u001b[0m\u001b[0mplot\u001b[0m\u001b[0;34m(\u001b[0m\u001b[0mx\u001b[0m\u001b[0;34m,\u001b[0m \u001b[0mrv\u001b[0m\u001b[0;34m.\u001b[0m\u001b[0mpdf\u001b[0m\u001b[0;34m(\u001b[0m\u001b[0mx\u001b[0m\u001b[0;34m)\u001b[0m\u001b[0;34m,\u001b[0m \u001b[0;34m'k-'\u001b[0m\u001b[0;34m,\u001b[0m \u001b[0mlw\u001b[0m\u001b[0;34m=\u001b[0m\u001b[0;36m2\u001b[0m\u001b[0;34m)\u001b[0m\u001b[0;34m\u001b[0m\u001b[0m\n",
      "\u001b[0;31mAttributeError\u001b[0m: 'bernoulli_gen' object has no attribute 'pdf'"
     ]
    },
    {
     "data": {
      "image/png": "[encoded data removed]",
      "text/plain": [
       "<matplotlib.figure.Figure at 0x7f1b47b04c18>"
      ]
     },
     "metadata": {},
     "output_type": "display_data"
    }
   ],
   "source": [
    "fig, ax = plt.subplots(1, 1)\n",
    "#mean, var, skew, kurt = bernoulli.stats(moments='mvsk')\n",
    "x = np.linspace(bernoulli.ppf(0.01,0.5), bernoulli.ppf(0.99,0.5), 100)\n",
    "ax.plot(x, bernoulli.pdf(x),'g-', lw=5, alpha=0.6, label='b pdf')\n",
    "rv = bernoulli()\n",
    "ax.plot(x, rv.pdf(x), 'k-', lw=2)"
   ]
  },
  {
   "cell_type": "markdown",
   "metadata": {},
   "source": [
    "#### 9.3. Для вибірки з біноміального розподілу:\n",
    "```\n",
    "```\n",
    "```\n",
    "```\n",
    "```\n",
    "```\n",
    "```\n",
    "Максимальна оцінка: 3 бали\n",
    "Рекомендований час: 5хв\n",
    "```"
   ]
  },
  {
   "cell_type": "code",
   "execution_count": null,
   "metadata": {
    "collapsed": true
   },
   "outputs": [],
   "source": []
  },
  {
   "cell_type": "markdown",
   "metadata": {
    "collapsed": true
   },
   "source": [
    "#### 9.4. Для вибірки з розподілу Пуассона:\n",
    "```\n",
    "```\n",
    "```\n",
    "```\n",
    "```\n",
    "```\n",
    "```\n",
    "Максимальна оцінка: 3 бали\n",
    "Рекомендований час: 5хв\n",
    "```"
   ]
  },
  {
   "cell_type": "code",
   "execution_count": null,
   "metadata": {
    "collapsed": true
   },
   "outputs": [],
   "source": []
  }
 ],
 "metadata": {
  "kernelspec": {
   "display_name": "Python 3",
   "language": "python",
   "name": "python3"
  },
  "language_info": {
   "codemirror_mode": {
    "name": "ipython",
    "version": 3
   },
   "file_extension": ".py",
   "mimetype": "text/x-python",
   "name": "python",
   "nbconvert_exporter": "python",
   "pygments_lexer": "ipython3",
   "version": "3.4.2"
  }
 },
 "nbformat": 4,
 "nbformat_minor": 2
}
