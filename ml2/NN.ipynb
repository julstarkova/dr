{
 "cells": [
  {
   "cell_type": "code",
   "execution_count": 1,
   "metadata": {},
   "outputs": [],
   "source": [
    "from numpy import exp, array, random, dot"
   ]
  },
  {
   "cell_type": "code",
   "execution_count": 2,
   "metadata": {},
   "outputs": [],
   "source": [
    "class NeuronLayer():\n",
    "    def __init__(self, number_of_neurons, number_of_synapses):\n",
    "        self.synaptic_weights = 2 * random.random((number_of_synapses, number_of_neurons)) - 1"
   ]
  },
  {
   "cell_type": "code",
   "execution_count": 3,
   "metadata": {},
   "outputs": [],
   "source": [
    "class NeuralNetwork():\n",
    "    def __init__(self, layer1, layer2, layer3):\n",
    "        self.layer1 = layer1\n",
    "        self.layer2 = layer2\n",
    "        self.layer3 = layer3\n",
    "\n",
    "    def __sigmoid(self, x):\n",
    "        return 1 / (1 + exp(-x))\n",
    "\n",
    "    def __sigmoid_derivative(self, x):\n",
    "        return x * (1 - x)\n",
    "\n",
    "    def study(self, training_set_inputs, training_set_outputs, number_of_training_iterations):\n",
    "        for _ in range(number_of_training_iterations):\n",
    "\n",
    "            output_from_layer_1, output_from_layer_2, output_from_layer_3 = self.think(training_set_inputs)\n",
    "            \n",
    "            layer3_error = training_set_outputs - output_from_layer_3\n",
    "            layer3_delta = layer3_error * self.__sigmoid_derivative(output_from_layer_3)\n",
    "            \n",
    "            layer2_error = layer3_delta.dot(self.layer3.synaptic_weights.T)\n",
    "            layer2_delta = layer2_error * self.__sigmoid_derivative(output_from_layer_2)\n",
    "\n",
    "            layer1_error = layer2_delta.dot(self.layer2.synaptic_weights.T)\n",
    "            layer1_delta = layer1_error * self.__sigmoid_derivative(output_from_layer_1)\n",
    "\n",
    "\n",
    "            layer1_adjustment = training_set_inputs.T.dot(layer1_delta)\n",
    "            layer2_adjustment = output_from_layer_1.T.dot(layer2_delta)\n",
    "            layer3_adjustment = output_from_layer_2.T.dot(layer3_delta)\n",
    "\n",
    "            self.layer1.synaptic_weights += layer1_adjustment\n",
    "            self.layer2.synaptic_weights += layer2_adjustment\n",
    "            self.layer3.synaptic_weights += layer3_adjustment \n",
    "\n",
    "\n",
    "    def think(self, inputs):\n",
    "        \n",
    "        output_from_layer1 = self.__sigmoid(dot(inputs, self.layer1.synaptic_weights))\n",
    "        output_from_layer2 = self.__sigmoid(dot(output_from_layer1, self.layer2.synaptic_weights))\n",
    "        output_from_layer3 = self.__sigmoid(dot(output_from_layer2, self.layer3.synaptic_weights))\n",
    "        return output_from_layer1, output_from_layer2, output_from_layer3\n",
    "\n",
    "\n",
    "    def print_weights(self):\n",
    "        print (self.layer1.synaptic_weights)\n",
    "        print (self.layer2.synaptic_weights)\n",
    "        print (self.layer3.synaptic_weights)"
   ]
  },
  {
   "cell_type": "code",
   "execution_count": 12,
   "metadata": {},
   "outputs": [
    {
     "name": "stdout",
     "output_type": "stream",
     "text": [
      "NN thinks x1 XOR x3 of [1, 1, 0] is 0.92724685089\n"
     ]
    }
   ],
   "source": [
    "random.seed(42)\n",
    "\n",
    "layer1 = NeuronLayer(5, 3)\n",
    "layer2 = NeuronLayer(4, 5)\n",
    "layer3 = NeuronLayer(1, 4)\n",
    "\n",
    "neural_network = NeuralNetwork(layer1, layer2, layer3)\n",
    "\n",
    "training_set_inputs = array([[0, 0, 1], [0, 1, 1], [1, 0, 1], [0, 1, 0], [1, 0, 0], [1, 1, 1], [0, 0, 0]])\n",
    "training_set_outputs = array([[1, 1, 0, 1, 1, 0, 0]]).T#x1 XOR x3\n",
    "#training_set_outputs = array([[1, 3, 5, 2, 4, 7, 0]]).T/8\n",
    "\n",
    "neural_network.study(training_set_inputs, training_set_outputs, 60000)\n",
    "\n",
    "hidden_state1,hidden_state2, output = neural_network.think(array([1, 1, 0]))\n",
    "print('NN thinks x1 XOR x3 of [1, 1, 0] is',output[0])"
   ]
  },
  {
   "cell_type": "code",
   "execution_count": null,
   "metadata": {},
   "outputs": [],
   "source": []
  }
 ],
 "metadata": {
  "kernelspec": {
   "display_name": "Python 3",
   "language": "python",
   "name": "python3"
  },
  "language_info": {
   "codemirror_mode": {
    "name": "ipython",
    "version": 3
   },
   "file_extension": ".py",
   "mimetype": "text/x-python",
   "name": "python",
   "nbconvert_exporter": "python",
   "pygments_lexer": "ipython3",
   "version": "3.5.2"
  }
 },
 "nbformat": 4,
 "nbformat_minor": 2
}
