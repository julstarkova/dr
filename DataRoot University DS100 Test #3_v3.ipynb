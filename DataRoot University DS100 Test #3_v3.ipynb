{
 "cells": [
  {
   "cell_type": "markdown",
   "metadata": {},
   "source": [
    "# DataRoot University DS100 Test #3\n",
    "На проходження тесту виділяється 112 хвилин."
   ]
  },
  {
   "cell_type": "markdown",
   "metadata": {},
   "source": [
    "## SQL"
   ]
  },
  {
   "cell_type": "markdown",
   "metadata": {},
   "source": [
    "##### Відповідь до кожного завдання у цьому розділі записувати в наступну пусту строку в форматі sql запиту"
   ]
  },
  {
   "cell_type": "markdown",
   "metadata": {},
   "source": [
    "### Коротка інформація про базу даних \"Аерофлот\":\n",
    "\n",
    "Схема БД:\n",
    "\n",
    "- Company (ID_comp, name)\n",
    "- Trip (trip_no, ID_comp, plane, town_from, town_to, time_out, time_in)\n",
    "- Passenger (ID_psg, name)\n",
    "- Pass_in_trip (trip_no, date, ID_psg, place)\n",
    "\n",
    "Таблиця Company містить ідентифікатор і назву компанії, що здійснює перевезення пасажирів.\n",
    "```\n",
    "```\n",
    "Таблиця Trip містить інформацію про рейси: номер рейсу, ідентифікатор компанії, тип літака, місто відправлення, місто прибуття, час відправлення і час прибуття.\n",
    "```\n",
    "```\n",
    "Таблиця Passenger містить ідентифікатор і ім'я пасажира.\n",
    "```\n",
    "```\n",
    "Таблиця Pass_in_trip містить інформацію про польоти: номер рейсу, дата вильоту (день), ідентифікатор пасажира і місце, на якому він сидів під час польоту.\n",
    "```\n",
    "```\n",
    "Зауваження:\n",
    "* рейси виконуються щодня, а тривалість польоту будь-якого рейсу менше доби; town_from <> town_to;\n",
    "* час і дата враховується щодо одного часового поясу;\n",
    "* час відправлення і прибуття вказується з точністю до хвилини;\n",
    "* серед пасажирів можуть бути однофамільці (однакові значення поля name, наприклад, Bruce Willis);\n",
    "* номер місця в салоні - це число з буквою; число визначає номер ряду, буква (a - d) - місце в ряду зліва направо в алфавітному порядку;\n",
    "* зв'язку і обмеження показані на схемі даних.\n",
    "\n",
    "**Дамп**: **[aero_pg_script.sql](https://github.com/dataroot/DRU-DS100-w3/tree/master/tests/3/v3/aero_pg_script.sql)**."
   ]
  },
  {
   "cell_type": "markdown",
   "metadata": {
    "collapsed": true
   },
   "source": [
    "### 1. Знайдіть всі рейси виконані літаком Boeing.\n",
    "```\n",
    "```\n",
    "Довідка по темі:\n",
    "* [Простий оператор SELECT](http://www.sql-tutorial.ru/ru/book_simple_select_statement/page1.html)\n",
    "```\n",
    "```\n",
    "```\n",
    "```\n",
    "```\n",
    "```\n",
    "```\n",
    "Максимальна оцінка: 1 бал\n",
    "Рекомендований час: 3хв\n",
    "```"
   ]
  },
  {
   "cell_type": "code",
   "execution_count": null,
   "metadata": {
    "collapsed": true
   },
   "outputs": [],
   "source": [
    "SELECT * FROM postgres.public.trip WHERE plane = 'Boeing';"
   ]
  },
  {
   "cell_type": "markdown",
   "metadata": {},
   "source": [
    "### 2. Визначити імена різних пасажирів, які коли-небудь летіли на одному і тому ж місці більше одного разу.\n",
    "```\n",
    "```\n",
    "Довідка по темі:\n",
    "* [Підзапити](http://www.sql-tutorial.ru/ru/book_subqueries.html)\n",
    "* [Конструкція GROUP BY](http://www.sql-tutorial.ru/ru/book_group_by_clause.html)\n",
    "* [Конструкція HAVING](http://www.sql-tutorial.ru/ru/book_having_clause.html)\n",
    "```\n",
    "```\n",
    "```\n",
    "```\n",
    "```\n",
    "```\n",
    "```\n",
    "Максимальна оцінка: 2 бали\n",
    "Рекомендований час: 6хв\n",
    "```"
   ]
  },
  {
   "cell_type": "code",
   "execution_count": null,
   "metadata": {
    "collapsed": true
   },
   "outputs": [],
   "source": [
    "SELECT name FROM passenger RIGHT JOIN\n",
    "  (SELECT A.id_psg FROM pass_in_trip A,pass_in_trip B WHERE A.id_psg = B.id_psg AND A.place = B.place) AA\n",
    "  ON passenger.id_psg = AA.id_psg\n",
    "  GROUP BY name\n",
    "  HAVING count(AA)>1;"
   ]
  },
  {
   "cell_type": "markdown",
   "metadata": {},
   "source": [
    "### 3. Знайти кількість маршрутів, які обслуговуються найбільшим числом рейсів.\n",
    "Зауваження:\n",
    "* A - B і B - A вважати РІЗНИМИ маршрутами.\n",
    "* Використовувати тільки таблицю Trip\n",
    "\n",
    "```\n",
    "```\n",
    "Довідка по темі:\n",
    "* [Конструкція GROUP BY](http://www.sql-tutorial.ru/ru/book_group_by_clause.html)\n",
    "* [Конструкція HAVING](http://www.sql-tutorial.ru/ru/book_having_clause.html)\n",
    "* [Використання ключових слів SOME (ANY) і ALL з предикатами порівняння](http://www.sql-tutorial.ru/ru/book_using_any_all_keywords_with_comparison_predicates.html)\n",
    "* [Оператор CASE](http://www.sql-tutorial.ru/ru/book_case_statement.html)\n",
    "```\n",
    "```\n",
    "```\n",
    "```\n",
    "```\n",
    "```\n",
    "```\n",
    "Максимальна оцінка: 2 бали\n",
    "Рекомендований час: 6хв\n",
    "```"
   ]
  },
  {
   "cell_type": "code",
   "execution_count": null,
   "metadata": {
    "collapsed": true
   },
   "outputs": [],
   "source": [
    "SELECT count(trip_no)as CS,town_from,town_to\n",
    "  FROM trip\n",
    "  GROUP BY town_from,town_to\n",
    "  ORDER BY CS DESC"
   ]
  },
  {
   "cell_type": "markdown",
   "metadata": {},
   "source": [
    "### 4. Знайти кількість маршрутів, які обслуговуються найбільшим числом рейсів.\n",
    "Зауваження:\n",
    "* A - B і B - A вважати ОДНИМ І ТИМ ЖЕ маршрутом.\n",
    "* Використовувати тільки таблицю Trip\n",
    "\n",
    "```\n",
    "```\n",
    "Довідка по темі:\n",
    "* [Конструкція GROUP BY](http://www.sql-tutorial.ru/ru/book_group_by_clause.html)\n",
    "* [Конструкція HAVING](http://www.sql-tutorial.ru/ru/book_having_clause.html)\n",
    "* [Використання ключових слів SOME (ANY) і ALL з предикатами порівняння](http://www.sql-tutorial.ru/ru/book_using_any_all_keywords_with_comparison_predicates.html)\n",
    "```\n",
    "```\n",
    "```\n",
    "```\n",
    "```\n",
    "```\n",
    "```\n",
    "Максимальна оцінка: 2 бали\n",
    "Рекомендований час: 6хв\n",
    "```"
   ]
  },
  {
   "cell_type": "code",
   "execution_count": null,
   "metadata": {
    "collapsed": true
   },
   "outputs": [],
   "source": [
    "SELECT town_from,town_to, count(*) AS num\n",
    "    FROM trip\n",
    "    GROUP BY\n",
    "        town_from, town_to\n",
    "    HAVING\n",
    "        count(*) >= ALL (SELECT count(*) FROM trip GROUP BY town_from, town_to)"
   ]
  },
  {
   "cell_type": "markdown",
   "metadata": {},
   "source": [
    "### 5. Серед тих, хто користується послугами тільки якоїсь однієї компанії, визначити імена різних пасажирів, що літали частіше за інших. Вивід: ім'я пасажира і число польотів.\n",
    "```\n",
    "```\n",
    "Довідка по темі:\n",
    "* [Підзапити](http://www.sql-tutorial.ru/ru/book_subqueries.html)\n",
    "* [Конструкція GROUP BY](http://www.sql-tutorial.ru/ru/book_group_by_clause.html)\n",
    "* [Конструкція HAVING](http://www.sql-tutorial.ru/ru/book_having_clause.html)\n",
    "* [Явні операції з'єднання](http://www.sql-tutorial.ru/ru/book_explicit_join_operations.html)\n",
    "```\n",
    "```\n",
    "```\n",
    "```\n",
    "```\n",
    "```\n",
    "```\n",
    "Максимальна оцінка: 2 бали\n",
    "Рекомендований час: 6хв\n",
    "```"
   ]
  },
  {
   "cell_type": "code",
   "execution_count": null,
   "metadata": {
    "collapsed": true
   },
   "outputs": [],
   "source": [
    "SELECT passenger.name , count(pass_in_trip.id_psg) as \"fl num\"\n",
    "FROM passenger\n",
    "INNER JOIN pass_in_trip\n",
    "    ON passenger.id_psg = pass_in_trip.id_psg\n",
    "  INNER JOIN trip ON pass_in_trip.trip_no = trip.trip_no\n",
    "WHERE trip.id_comp = 1\n",
    "GROUP BY passenger.name\n",
    "ORDER BY \"fl num\" DESC\n",
    "LIMIT 1;"
   ]
  },
  {
   "cell_type": "markdown",
   "metadata": {},
   "source": [
    "### 6. Визначити дні, коли було виконано максимальне число рейсів з Ростова ('Rostov'). Вивід: число рейсів, дата.\n",
    "```\n",
    "```\n",
    "Довідка по темі:\n",
    "* [Явні операції з'єднання](http://www.sql-tutorial.ru/ru/book_explicit_join_operations.html)\n",
    "* [Отримання підсумкових значень](http://www.sql-tutorial.ru/ru/book_getting_summarizing_values.html)\n",
    "```\n",
    "```\n",
    "```\n",
    "```\n",
    "```\n",
    "```\n",
    "```\n",
    "Максимальна оцінка: 2 бали\n",
    "Рекомендований час: 6хв\n",
    "```"
   ]
  },
  {
   "cell_type": "code",
   "execution_count": null,
   "metadata": {
    "collapsed": true
   },
   "outputs": [],
   "source": [
    "SELECT (count(trip.town_from)) AS \"co\",pass_in_trip.date\n",
    "FROM trip INNER JOIN pass_in_trip\n",
    "  ON trip.trip_no = pass_in_trip.trip_no\n",
    "  WHERE town_from = 'Rostov'\n",
    "GROUP BY date\n",
    "ORDER BY \"co\" DESC\n",
    "LIMIT 1;"
   ]
  },
  {
   "cell_type": "markdown",
   "metadata": {
    "collapsed": true
   },
   "source": [
    "### 7. Визначити пасажирів, які більше за інших часу провели в польотах. Вивід: ім'я пасажира, загальний час в хвилинах, проведений в польотах\n",
    "```\n",
    "```\n",
    "Довідка по темі:\n",
    "* [Явні операції з'єднання](http://www.sql-tutorial.ru/ru/book_explicit_join_operations.html)\n",
    "* [Отримання підсумкових значень](http://www.sql-tutorial.ru/ru/book_getting_summarizing_values.html)\n",
    "* [Використання ключових слів SOME (ANY) і ALL з предикатами порівняння](http://www.sql-tutorial.ru/ru/book_using_any_all_keywords_with_comparison_predicates.html)\n",
    "* [Функції T-SQL для роботи з датами](http://www.sql-tutorial.ru/ru/book_tsql_datetime_functions.html)\n",
    "\n",
    "```\n",
    "```\n",
    "```\n",
    "```\n",
    "```\n",
    "```\n",
    "```\n",
    "Максимальна оцінка: 2 бали\n",
    "Рекомендований час: 6хв\n",
    "```"
   ]
  },
  {
   "cell_type": "code",
   "execution_count": null,
   "metadata": {
    "collapsed": true
   },
   "outputs": [],
   "source": []
  },
  {
   "cell_type": "markdown",
   "metadata": {},
   "source": [
    "### 8. Для кожної компанії підрахувати кількість перевезених пасажирів (якщо вони були в цьому місяці) по декадах квітня 2003 року. При цьому враховувати тільки дату вильоту. Вивід: назва компанії, кількість пасажирів за кожну декаду.\n",
    "```\n",
    "```\n",
    "Довідка по темі:\n",
    "* [Конструкція GROUP BY](http://www.sql-tutorial.ru/ru/book_group_by_clause.html)\n",
    "* [Оператор CASE](http://www.sql-tutorial.ru/ru/book_case_statement.html)\n",
    "```\n",
    "```\n",
    "```\n",
    "```\n",
    "```\n",
    "```\n",
    "```\n",
    "Максимальна оцінка: 2 бали\n",
    "Рекомендований час: 6хв\n",
    "```"
   ]
  },
  {
   "cell_type": "code",
   "execution_count": null,
   "metadata": {},
   "outputs": [],
   "source": []
  },
  {
   "cell_type": "markdown",
   "metadata": {},
   "source": [
    "### 9. Для кожної компанії, яка перевозила пасажирів, підрахувати час, який провели в польоті літаки з пасажирами. Вивід: назва компанії, час у хвилинах.\n",
    "```\n",
    "```\n",
    "Довідка по темі:\n",
    "* [Функція DATEDIFF](http://www.sql-tutorial.ru/ru/book_datediff_function.html)\n",
    "* [Оператор CASE](http://www.sql-tutorial.ru/ru/book_case_statement.html)\n",
    "* [Явні операції з'єднання](http://www.sql-tutorial.ru/ru/book_explicit_join_operations.html)\n",
    "* [Отримання підсумкових значень](http://www.sql-tutorial.ru/ru/book_getting_summarizing_values.html)\n",
    "```\n",
    "```\n",
    "```\n",
    "```\n",
    "```\n",
    "```\n",
    "```\n",
    "Максимальна оцінка: 2 бали\n",
    "Рекомендований час: 6хв\n",
    "```"
   ]
  },
  {
   "cell_type": "code",
   "execution_count": null,
   "metadata": {},
   "outputs": [],
   "source": [
    "SELECT name,duration FROM company ,(SELECT CASE\n",
    " WHEN time_dep >= time_arr\n",
    " THEN time_arr - time_dep + 1440\n",
    " ELSE time_arr - time_dep\n",
    " END duration\n",
    "FROM (SELECT DATE_PART('hour', A.time_out)*60 + DATE_PART('minute', A.time_out) time_dep,\n",
    " DATE_PART('hour', A.time_in)*60 + DATE_PART('minute', A.time_in) time_arr\n",
    " FROM trip A\n",
    " --WHERE A.trip_no =1100\n",
    " ) tm) B\n",
    "WHERE company.id_comp = A.id_comp;\n",
    "\n",
    "--НЕ РАБОТАЕТ,но зерно истины есть"
   ]
  },
  {
   "cell_type": "markdown",
   "metadata": {},
   "source": [
    "### 10. Для всіх днів в інтервалі з 01/04/2003 по 07/04/2003 визначити число рейсів з Rostov. Вивід: дата, кількість рейсів\n",
    "```\n",
    "```\n",
    "Довідка по темі:\n",
    "* [Оператор CASE](http://www.sql-tutorial.ru/ru/book_case_statement.html)\n",
    "* [Конструкція GROUP BY](http://www.sql-tutorial.ru/ru/book_group_by_clause.html)\n",
    "* [Явні операції з'єднання](http://www.sql-tutorial.ru/ru/book_explicit_join_operations.html)\n",
    "* [Генерація числової послідовності](http://www.sql-tutorial.ru/ru/book_number_sequence_generation.html)\n",
    "```\n",
    "```\n",
    "```\n",
    "```\n",
    "```\n",
    "```\n",
    "```\n",
    "Максимальна оцінка: 3 бали\n",
    "Рекомендований час: 9хв\n",
    "```"
   ]
  },
  {
   "cell_type": "code",
   "execution_count": null,
   "metadata": {
    "collapsed": true
   },
   "outputs": [],
   "source": []
  },
  {
   "cell_type": "markdown",
   "metadata": {},
   "source": [
    "### 11. Визначити час, проведений в польотах, для пасажирів, що літали завжди на різних місцях. Вивід: ім'я пасажира, час у хвилинах.\n",
    "```\n",
    "```\n",
    "Довідка по темі:\n",
    "* [Явні операції з'єднання](http://www.sql-tutorial.ru/ru/book_explicit_join_operations.html)\n",
    "* [Конструкція GROUP BY](http://www.sql-tutorial.ru/ru/book_group_by_clause.html)\n",
    "* [Конструкція HAVING](http://www.sql-tutorial.ru/ru/book_having_clause.html)\n",
    "* [Функція DATEDIFF](http://www.sql-tutorial.ru/ru/book_datediff_function.html)\n",
    "```\n",
    "```\n",
    "```\n",
    "```\n",
    "```\n",
    "```\n",
    "```\n",
    "Максимальна оцінка: 3 бали\n",
    "Рекомендований час: 9хв\n",
    "```"
   ]
  },
  {
   "cell_type": "code",
   "execution_count": null,
   "metadata": {
    "collapsed": true
   },
   "outputs": [],
   "source": []
  },
  {
   "cell_type": "markdown",
   "metadata": {},
   "source": [
    "### 12. Вважаючи, що пункт самого першого вильоту пасажира є місцем проживання, знайти не москвичів, які прилітали до Москви більше одного разу. Вивід: ім'я пасажира, кількість польотів до Москви.\n",
    "```\n",
    "```\n",
    "Довідка по темі:\n",
    "* [Підзапити](http://www.sql-tutorial.ru/ru/book_subqueries.html)\n",
    "* [Конструкція GROUP BY](http://www.sql-tutorial.ru/ru/book_group_by_clause.html)\n",
    "* [Конструкція HAVING](http://www.sql-tutorial.ru/ru/book_having_clause.html)\n",
    "* [Явні операції з'єднання](http://www.sql-tutorial.ru/ru/book_explicit_join_operations.html)\n",
    "```\n",
    "```\n",
    "```\n",
    "```\n",
    "```\n",
    "```\n",
    "```\n",
    "Максимальна оцінка: 3 бал\n",
    "Рекомендований час: 9хв\n",
    "```"
   ]
  },
  {
   "cell_type": "code",
   "execution_count": null,
   "metadata": {
    "collapsed": true
   },
   "outputs": [],
   "source": []
  },
  {
   "cell_type": "markdown",
   "metadata": {},
   "source": [
    "### 13. Нехай є деяка підмножина S множини цілих чисел. Назвемо \"гіркою з вершиною N\" послідовність чисел з S, в якій числа, менші ніж N, вибудовані (зліва направо без роздільників) спочатку в зростаючому порядку, а потім - в спадаючому, зі значенням N між ними. Наприклад, для S = {1, 2, ..., 10} гірка з вершиною 5 представляється такою послідовністю: 123454321. При S, що складається з ідентифікаторів всіх компаній, для кожної компанії побудувати \"гірку\", розглядаючи її ідентифікатор в якості вершини. Вважати ідентифікатори позитивними числами і врахувати, що в базі немає даних, при яких кількість цифр в \"гірці\" може перевищити 70. Вивід: id_comp, \"гірка\".\n",
    "```\n",
    "```\n",
    "Довідка по темі:\n",
    "* [Magic](https://i.ytimg.com/vi/eb8896qtFnY/maxresdefault.jpg)\n",
    "```\n",
    "```\n",
    "```\n",
    "```\n",
    "```\n",
    "```\n",
    "```\n",
    "Максимальна оцінка: 5 балів\n",
    "Рекомендований час: 15хв\n",
    "```"
   ]
  },
  {
   "cell_type": "code",
   "execution_count": null,
   "metadata": {
    "collapsed": true
   },
   "outputs": [],
   "source": []
  },
  {
   "cell_type": "markdown",
   "metadata": {
    "collapsed": true
   },
   "source": [
    "## NoSQL"
   ]
  },
  {
   "cell_type": "markdown",
   "metadata": {},
   "source": [
    "##### Відповідь до кожного завдання у цьому розділі записувати в наступну пусту строку в форматі MongoDB NoSQL запиту. Тобто: \n",
    "```\n",
    "db.[collection_name].[action](query_params, ..).\n",
    "```"
   ]
  },
  {
   "cell_type": "markdown",
   "metadata": {},
   "source": [
    "Структура документу в колекції restaurants:\n",
    "```\n",
    "{\n",
    "  \"address\": {\n",
    "     \"building\": \"1007\",\n",
    "     \"coord\": [ -73.856077, 40.848447 ],\n",
    "     \"street\": \"Morris Park Ave\",\n",
    "     \"zipcode\": \"10462\"\n",
    "  },\n",
    "  \"borough\": \"Bronx\",\n",
    "  \"cuisine\": \"Bakery\",\n",
    "  \"grades\": [\n",
    "     { \"date\": { \"$date\": 1393804800000 }, \"grade\": \"A\", \"score\": 2 },\n",
    "     { \"date\": { \"$date\": 1378857600000 }, \"grade\": \"A\", \"score\": 6 },\n",
    "     { \"date\": { \"$date\": 1358985600000 }, \"grade\": \"A\", \"score\": 10 },\n",
    "     { \"date\": { \"$date\": 1322006400000 }, \"grade\": \"A\", \"score\": 9 },\n",
    "     { \"date\": { \"$date\": 1299715200000 }, \"grade\": \"B\", \"score\": 14 }\n",
    "  ],\n",
    "  \"name\": \"Morris Park Bake Shop\",\n",
    "  \"restaurant_id\": \"30075445\"\n",
    "}\n",
    "```\n",
    "\n",
    "**Дамп: [restaurants.json](https://github.com/dataroot/DRU-DS100-w3/tree/master/tests/3/v1/restaurants.json)**.\n",
    "\n",
    "Приклад:\n",
    "```\n",
    "Питання:\n",
    "Напишіть запит MongoDB, щоб відобразити всі документи в колекції restaurants.\n",
    "```\n",
    "```\n",
    "Відповідь:\n",
    "db.restaurants.find();\n",
    "```"
   ]
  },
  {
   "cell_type": "markdown",
   "metadata": {
    "collapsed": true
   },
   "source": [
    "### 14. Напишіть запит MongoDB, щоб відобразити вcі ресторани, які знаходяться в районі Bronx.\n",
    "```\n",
    "```\n",
    "```\n",
    "```\n",
    "```\n",
    "```\n",
    "```\n",
    "Максимальна оцінка: 1 бал\n",
    "Рекомендований час: 3хв\n",
    "```"
   ]
  },
  {
   "cell_type": "code",
   "execution_count": null,
   "metadata": {
    "collapsed": true
   },
   "outputs": [],
   "source": [
    "db.rest.find({borough: \"Bronx\"})"
   ]
  },
  {
   "cell_type": "markdown",
   "metadata": {},
   "source": [
    "### 15. Напишіть запит MongoDB, щоб знайти ресторани, у який не \"American\" кухня і досягли пункту \"А\" та не належить до району Brooklyn. Результат повинен відображатися відповідно до кухні у порядку спадання.\n",
    "```\n",
    "```\n",
    "```\n",
    "```\n",
    "```\n",
    "```\n",
    "```\n",
    "Максимальна оцінка: 1 бал\n",
    "Рекомендований час: 3хв\n",
    "```"
   ]
  },
  {
   "cell_type": "code",
   "execution_count": null,
   "metadata": {
    "collapsed": true
   },
   "outputs": [],
   "source": [
    "db.rest.find({cuisine: {$ne : \"American\"}, borough : {$ne : \"Brooklyn\"}, grades: {$elemMatch: { grade: {$eq: \"A\"}}}}).sort( {cuisine: -1} )"
   ]
  },
  {
   "cell_type": "markdown",
   "metadata": {},
   "source": [
    "### 16. Напишіть запит MongoDB, щоб знайти ресторани, які досягли балів, більше 80, але менше 100.\n",
    "```\n",
    "```\n",
    "```\n",
    "```\n",
    "```\n",
    "```\n",
    "```\n",
    "Максимальна оцінка: 1 бал\n",
    "Рекомендований час: 3хв\n",
    "```"
   ]
  },
  {
   "cell_type": "code",
   "execution_count": null,
   "metadata": {
    "collapsed": true
   },
   "outputs": [],
   "source": [
    "db.rest.find({grades : { $elemMatch: {score : {$gt:80, $lt:100}}}})"
   ]
  },
  {
   "cell_type": "markdown",
   "metadata": {},
   "source": [
    "### 17. Наведіть приклад корисного aggregate запиту для колекції restaurants та поясніть його.\n",
    "```\n",
    "```\n",
    "```\n",
    "```\n",
    "```\n",
    "```\n",
    "```\n",
    "Максимальна оцінка: 6 балів\n",
    "Рекомендований час: 10хв\n",
    "```"
   ]
  },
  {
   "cell_type": "code",
   "execution_count": null,
   "metadata": {
    "collapsed": true
   },
   "outputs": [],
   "source": [
    "db.rest.aggregate([{$group : {_id : \"$borough\", there_are : {$sum : 1}}}])\n",
    "\n",
    "--ХОТЕЛОСЬ ЕЩЁ НАПИСАТЬ НА ЛУЧШИЙ РЕСТОРАН В ПРЕДЕЛАХ ОДНОЙ КУХНИ,НО ПОЛУЧИЛОСЬ ТАК\n",
    "db.rest.aggregate([{$project: {_id: 0, cuisine: 1, adress: {st: \"$street\", b: \"$building\"}}},{$group : {_id : \"$cuisine\", grade : {$max : \"$score\"},adr:{$push:'$adress'}}}])"
   ]
  }
 ],
 "metadata": {
  "kernelspec": {
   "display_name": "Python 3",
   "language": "python",
   "name": "python3"
  },
  "language_info": {
   "codemirror_mode": {
    "name": "ipython",
    "version": 3
   },
   "file_extension": ".py",
   "mimetype": "text/x-python",
   "name": "python",
   "nbconvert_exporter": "python",
   "pygments_lexer": "ipython3",
   "version": "3.4.2"
  }
 },
 "nbformat": 4,
 "nbformat_minor": 2
}
